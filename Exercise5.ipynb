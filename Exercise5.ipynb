{
 "cells": [
  {
   "cell_type": "markdown",
   "metadata": {},
   "source": [
    "# Exercise 5\n",
    "\n",
    "The purpose of this exercise is understand and define the neural network architectures and activation function for different kind of prediction or classification problem.\n",
    "\n",
    "In each NN you have to define:\n",
    "1. Input layer: Number of nodes and activation function\n",
    "2. Hidden layers: Activation function \n",
    "3. Output layer: Number of nodes  and activation function\n",
    "\n",
    "You don't need to download and train your NN, just contruct and compile NN."
   ]
  },
  {
   "cell_type": "markdown",
   "metadata": {},
   "source": [
    "## Regression \n",
    "\n",
    "Used dataset is [Boston House pricing](https://www.kaggle.com/vikrishnan/boston-house-prices)\n",
    "\n",
    "Dataset Description from the Kaggle:\n",
    "Content\n",
    "\n",
    "Each record in the database describes a Boston suburb or town. The data was drawn from the Boston Standard Metropolitan Statistical Area (SMSA) in 1970. The attributes are deﬁned as follows (taken from the UCI Machine Learning Repository1): \n",
    "1. CRIM: per capita crime rate by town\n",
    "2. ZN: proportion of residential land zoned for lots over 25,000 sq.ft.\n",
    "3. INDUS: proportion of non-retail business acres per town\n",
    "4. CHAS: Charles River dummy variable (= 1 if tract bounds river; 0 otherwise)\n",
    "5. NOX: nitric oxides concentration (parts per 10 million)\n",
    "6. RM: average number of rooms per dwelling\n",
    "7. AGE: proportion of owner-occupied units built prior to 1940\n",
    "8. DIS: weighted distances to ﬁve Boston employment centers\n",
    "9. RAD: index of accessibility to radial highways\n",
    "10. TAX: full-value property-tax rate per 10,000 dollars\n",
    "11. PTRATIO: pupil-teacher ratio by town \n",
    "12. B: 1000(Bk−0.63)2 where Bk is the proportion of blacks by town \n",
    "13. LSTAT:  lower status of the population\n",
    "14. MEDV: Median value of owner-occupied homes in dollars 1000s"
   ]
  },
  {
   "cell_type": "code",
   "execution_count": 1,
   "metadata": {},
   "outputs": [],
   "source": [
    "# Mika!\n",
    "# Please note that due to ethical concerns this dataset is only encouraged to be used to study and educate about ethical issues\n",
    "# see warning with eplanation: https://scikit-learn.org/stable/modules/generated/sklearn.datasets.load_boston.html"
   ]
  },
  {
   "cell_type": "code",
   "execution_count": 2,
   "metadata": {},
   "outputs": [],
   "source": [
    "import tensorflow as tf\n",
    "import pandas as pd \n",
    "tf.keras.backend.set_floatx('float64')\n",
    "\n",
    "from tensorflow.keras import layers\n",
    "from tensorflow import keras\n"
   ]
  },
  {
   "cell_type": "code",
   "execution_count": 3,
   "metadata": {},
   "outputs": [
    {
     "name": "stdout",
     "output_type": "stream",
     "text": [
      "Model: \"regression_model\"\n",
      "_________________________________________________________________\n",
      "Layer (type)                 Output Shape              Param #   \n",
      "=================================================================\n",
      "input_1 (InputLayer)         [(None, 13)]              0         \n",
      "_________________________________________________________________\n",
      "dense (Dense)                (None, 13)                182       \n",
      "_________________________________________________________________\n",
      "dense_1 (Dense)              (None, 1)                 14        \n",
      "=================================================================\n",
      "Total params: 196\n",
      "Trainable params: 196\n",
      "Non-trainable params: 0\n",
      "_________________________________________________________________\n"
     ]
    }
   ],
   "source": [
    "# Define NN using Keras Functional API\n",
    "# Input layer with suitable amount of nodes\n",
    "# 1. hidden layer: 13\n",
    "# Output layer: number of nodes, activation function and loss\n",
    "# Implementation comes to this cell\n",
    "\n",
    "inputs = layers.Input(shape = (13,)) # with the presumption that no dummies etc. coding were needed for the features. To get the shape of the training data, I would just use (Xtrain.shape[1], ).\n",
    "hidden = layers.Dense(13, activation = 'relu')(inputs)\n",
    "outputs = layers.Dense(1, activation = 'linear')(hidden)\n",
    "\n",
    "model = keras.Model(inputs = inputs, outputs = outputs, name = 'regression_model')\n",
    "\n",
    "# Compile model with following options: \n",
    "# Define loss function and use adam optimization algorithm \n",
    "\n",
    "model.compile(loss = 'mean_squared_error', optimizer = keras.optimizers.Adam(learning_rate = 0.01))\n",
    "\n",
    "model.summary()"
   ]
  },
  {
   "cell_type": "code",
   "execution_count": 4,
   "metadata": {},
   "outputs": [
    {
     "data": {
      "image/png": "[encoded data removed]",
      "text/plain": [
       "<IPython.core.display.Image object>"
      ]
     },
     "execution_count": 4,
     "metadata": {},
     "output_type": "execute_result"
    }
   ],
   "source": [
    "tf.keras.utils.plot_model(model,dpi=70,show_shapes=True)"
   ]
  },
  {
   "cell_type": "markdown",
   "metadata": {},
   "source": [
    "## Binary Classification\n",
    "\n",
    "__Short description of dataset:__ [Sonar dataset](https://archive.ics.uci.edu/ml/datasets/Connectionist+Bench+(Sonar,+Mines+vs.+Rocks))\n",
    "\n",
    "This is a dataset that describes sonar chirp returns bouncing off different services. The 60 input variables are the strength of the returns at different angles. It is a binary classification problem that requires a model to differentiate rocks from metal cylinders.\n",
    "\n",
    "All of the variables are continuous and generally in the range of 0 to 1. The output variable is a string “M” for mine and “R” for rock, which will need to be converted to integers 1 and 0."
   ]
  },
  {
   "cell_type": "code",
   "execution_count": 5,
   "metadata": {},
   "outputs": [
    {
     "name": "stdout",
     "output_type": "stream",
     "text": [
      "Model: \"binary_classification_model\"\n",
      "_________________________________________________________________\n",
      "Layer (type)                 Output Shape              Param #   \n",
      "=================================================================\n",
      "input_2 (InputLayer)         [(None, 60)]              0         \n",
      "_________________________________________________________________\n",
      "dense_2 (Dense)              (None, 30)                1830      \n",
      "_________________________________________________________________\n",
      "dense_3 (Dense)              (None, 1)                 31        \n",
      "=================================================================\n",
      "Total params: 1,861\n",
      "Trainable params: 1,861\n",
      "Non-trainable params: 0\n",
      "_________________________________________________________________\n"
     ]
    }
   ],
   "source": [
    "# Define NN using Keras Functional API\n",
    "# Input layer with suitable amount of nodes\n",
    "# 1. hidden layer: 30\n",
    "# Output layer: number of nodes, activation function and loss\n",
    "# Implementation comes to this cell\n",
    "\n",
    "inputs = layers.Input(shape = (60,)) # with the presumption that no dummies etc. coding were needed for the features\n",
    "hidden = layers.Dense(30, activation = 'relu')(inputs)\n",
    "outputs = layers.Dense(1, activation = 'sigmoid')(hidden)\n",
    "\n",
    "model = keras.Model(inputs = inputs, outputs = outputs, name = 'binary_classification_model')\n",
    "\n",
    "# Compile model with following options: \n",
    "# Define loss function and use adam optimization algorithm \n",
    "\n",
    "model.compile(loss = 'binary_crossentropy', optimizer = keras.optimizers.Adam(learning_rate = 0.01))\n",
    "\n",
    "model.summary()"
   ]
  },
  {
   "cell_type": "code",
   "execution_count": 6,
   "metadata": {},
   "outputs": [
    {
     "data": {
      "image/png": "[encoded data removed]",
      "text/plain": [
       "<IPython.core.display.Image object>"
      ]
     },
     "execution_count": 6,
     "metadata": {},
     "output_type": "execute_result"
    }
   ],
   "source": [
    "tf.keras.utils.plot_model(model,dpi=70,show_shapes=True)"
   ]
  },
  {
   "cell_type": "markdown",
   "metadata": {},
   "source": [
    "## Multiclass Classification\n",
    "\n",
    "[Wines dataset](https://archive.ics.uci.edu/ml/datasets/Wine%2BQuality) which contains 12 attributes, 11 wine features and 1 rate (1-10) at the end.\n",
    "\n",
    "Features:\n",
    "- Fixed acidity\n",
    "- Volatile acidity\n",
    "- Citric acid\n",
    "- Residual sugar\n",
    "- Chlorides\n",
    "- Free sulfur dioxide\n",
    "- Total sulfur dioxide\n",
    "- Density\n",
    "- pH\n",
    "- Sulfates\n",
    "- Alcohol\n",
    "\n",
    "Quality (1-10) is an class as follows\n",
    "1-3: Bad\n",
    "4-6: Good\n",
    "7-10: Excellend\n"
   ]
  },
  {
   "cell_type": "code",
   "execution_count": 7,
   "metadata": {},
   "outputs": [
    {
     "name": "stdout",
     "output_type": "stream",
     "text": [
      "Model: \"multiclass_classification_model\"\n",
      "_________________________________________________________________\n",
      "Layer (type)                 Output Shape              Param #   \n",
      "=================================================================\n",
      "input_3 (InputLayer)         [(None, 11)]              0         \n",
      "_________________________________________________________________\n",
      "dense_4 (Dense)              (None, 30)                360       \n",
      "_________________________________________________________________\n",
      "dense_5 (Dense)              (None, 40)                1240      \n",
      "_________________________________________________________________\n",
      "dense_6 (Dense)              (None, 20)                820       \n",
      "_________________________________________________________________\n",
      "dense_7 (Dense)              (None, 3)                 63        \n",
      "=================================================================\n",
      "Total params: 2,483\n",
      "Trainable params: 2,483\n",
      "Non-trainable params: 0\n",
      "_________________________________________________________________\n"
     ]
    }
   ],
   "source": [
    "# Define NN using Keras Functional API\n",
    "# Input layer with suitable amount of nodes\n",
    "# 1. hidden layer: 30\n",
    "# 2. hidden layer: 40\n",
    "# 3. hidden layer: 20\n",
    "# Output layer: number of nodes, activation function and loss\n",
    "\n",
    "\n",
    "inputs = layers.Input(shape = (11,)) # with the presumption that no dummies etc. coding were needed for the features\n",
    "hidden1 = layers.Dense(30, activation = 'relu')(inputs)\n",
    "hidden2 = layers.Dense(40, activation = 'relu')(hidden1)\n",
    "hidden3 = layers.Dense(20, activation = 'relu')(hidden2)\n",
    "outputs = layers.Dense(1, activation = 'softmax')(hidden3) # one node per quality class\n",
    "\n",
    "model = keras.Model(inputs = inputs, outputs = outputs, name = 'multiclass_classification_model')\n",
    "\n",
    "# Compile model with following options: \n",
    "# Define loss function and use adam optimization algorithm \n",
    "\n",
    "model.compile(loss = 'crossentropy', optimizer = keras.optimizers.Adam(learning_rate = 0.01))\n",
    "\n",
    "model.summary()"
   ]
  },
  {
   "cell_type": "code",
   "execution_count": 8,
   "metadata": {},
   "outputs": [
    {
     "data": {
      "image/png": "[encoded data removed]",
      "text/plain": [
       "<IPython.core.display.Image object>"
      ]
     },
     "execution_count": 8,
     "metadata": {},
     "output_type": "execute_result"
    }
   ],
   "source": [
    "tf.keras.utils.plot_model(model,dpi=70,show_shapes=True)"
   ]
  },
  {
   "cell_type": "markdown",
   "metadata": {},
   "source": [
    "## Multilabel Classification\n",
    "\n",
    "Imagenary dataset will have 1,000 samples with 10 input features. The dataset will have three class label outputs for each sample and each class will have one or two values (0 or 1, e.g. present or not present).\n",
    "\n"
   ]
  },
  {
   "cell_type": "code",
   "execution_count": 9,
   "metadata": {},
   "outputs": [
    {
     "name": "stdout",
     "output_type": "stream",
     "text": [
      "Model: \"multiclasslabel_classification_model\"\n",
      "_________________________________________________________________\n",
      "Layer (type)                 Output Shape              Param #   \n",
      "=================================================================\n",
      "input_4 (InputLayer)         [(None, 10)]              0         \n",
      "_________________________________________________________________\n",
      "dense_8 (Dense)              (None, 20)                220       \n",
      "_________________________________________________________________\n",
      "dense_9 (Dense)              (None, 20)                420       \n",
      "_________________________________________________________________\n",
      "dense_10 (Dense)             (None, 3)                 63        \n",
      "=================================================================\n",
      "Total params: 703\n",
      "Trainable params: 703\n",
      "Non-trainable params: 0\n",
      "_________________________________________________________________\n"
     ]
    }
   ],
   "source": [
    "# Define NN using Keras Functional API\n",
    "# Input layer with suitable amount of nodes\n",
    "# 1. hidden layer: 20\n",
    "# 2. hidden layer: 20\n",
    "# Output layer: number of nodes, activation function and loss\n",
    "\n",
    "inputs = layers.Input(shape = (10,)) # with the presumption that no dummies etc. coding were needed for the features\n",
    "hidden1 = layers.Dense(20)(inputs)\n",
    "hidden2 = layers.Dense(20)(hidden1)\n",
    "outputs = layers.Dense(3, activation = 'sigmoid')(hidden2) # one node per class\n",
    "\n",
    "model = keras.Model(inputs = inputs, outputs = outputs, name = 'multiclasslabel_classification_model')\n",
    "\n",
    "\n",
    "# Compile model with following options: \n",
    "# Define loss function and use adam optimization algorithm \n",
    "\n",
    "model.compile(loss = 'binary_crossentropy', optimizer = keras.optimizers.Adam(learning_rate = 0.01))\n",
    "\n",
    "model.summary()"
   ]
  },
  {
   "cell_type": "code",
   "execution_count": 10,
   "metadata": {},
   "outputs": [
    {
     "data": {
      "image/png": "[encoded data removed]",
      "text/plain": [
       "<IPython.core.display.Image object>"
      ]
     },
     "execution_count": 10,
     "metadata": {},
     "output_type": "execute_result"
    }
   ],
   "source": [
    "tf.keras.utils.plot_model(model,dpi=70,show_shapes=True)"
   ]
  }
 ],
 "metadata": {
  "kernelspec": {
   "display_name": "Python 3 (ipykernel)",
   "language": "python",
   "name": "python3"
  },
  "language_info": {
   "codemirror_mode": {
    "name": "ipython",
    "version": 3
   },
   "file_extension": ".py",
   "mimetype": "text/x-python",
   "name": "python",
   "nbconvert_exporter": "python",
   "pygments_lexer": "ipython3",
   "version": "3.8.8"
  }
 },
 "nbformat": 4,
 "nbformat_minor": 2
}
