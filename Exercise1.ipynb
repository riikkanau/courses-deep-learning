{
 "cells": [
  {
   "cell_type": "markdown",
   "metadata": {},
   "source": [
    "# Exercise 1\n",
    "\n",
    "## Matrix and operations using Tensorflow\n",
    "\n"
   ]
  },
  {
   "cell_type": "markdown",
   "metadata": {},
   "source": [
    "Define using the following matrices \n",
    "\n",
    "$$ A =\n",
    "\\begin{bmatrix}\n",
    "1 & 2 & 1\\\\\n",
    "3 & 1 & 2\\\\\n",
    "1 & 1 & 1\\\\\n",
    "\\end{bmatrix}\n",
    "$$\n",
    "\n",
    "$$ B =\n",
    "\\begin{bmatrix}\n",
    "2 & 2 & 1\\\\\n",
    "3 & 2 & 1\\\\\n",
    "1 & 2 & 2\\\\\n",
    "\\end{bmatrix}\n",
    "$$\n",
    "\n",
    "and perform the following calculations\n"
   ]
  },
  {
   "cell_type": "code",
   "execution_count": 1,
   "metadata": {},
   "outputs": [],
   "source": [
    "# Import libraries\n",
    "import tensorflow as tf\n",
    "import numpy as np\n",
    "tf.keras.backend.set_floatx('float64') # Removes TensorFlowin warnings considering the datatypes"
   ]
  },
  {
   "cell_type": "code",
   "execution_count": 2,
   "metadata": {},
   "outputs": [
    {
     "name": "stdout",
     "output_type": "stream",
     "text": [
      "<tf.Variable 'Variable:0' shape=(3, 3) dtype=int32, numpy=\n",
      "array([[1, 2, 1],\n",
      "       [3, 1, 2],\n",
      "       [1, 1, 1]])>\n",
      "<tf.Variable 'Variable:0' shape=(3, 3) dtype=int32, numpy=\n",
      "array([[2, 2, 1],\n",
      "       [3, 2, 1],\n",
      "       [1, 2, 2]])>\n"
     ]
    }
   ],
   "source": [
    "#Write the answer in this cell and run\n",
    "# Define matrixes using tf.Variable\n",
    "\n",
    "a = tf.Variable([ [1, 2, 1], [3, 1, 2], [1, 1, 1] ])\n",
    "b = tf.Variable([ [2, 2, 1], [3, 2, 1], [1, 2, 2] ])\n",
    "\n",
    "print(a)\n",
    "print(b)"
   ]
  },
  {
   "cell_type": "code",
   "execution_count": 3,
   "metadata": {},
   "outputs": [
    {
     "name": "stdout",
     "output_type": "stream",
     "text": [
      "tf.Tensor(\n",
      "[[3 4 2]\n",
      " [6 3 3]\n",
      " [2 3 3]], shape=(3, 3), dtype=int32)\n"
     ]
    }
   ],
   "source": [
    "#Write the answer in this cell and run\n",
    "# Addition\n",
    "\n",
    "addition = a + b\n",
    "print(addition)"
   ]
  },
  {
   "cell_type": "code",
   "execution_count": 4,
   "metadata": {},
   "outputs": [
    {
     "name": "stdout",
     "output_type": "stream",
     "text": [
      "tf.Tensor(\n",
      "[[-1  0  0]\n",
      " [ 0 -1  1]\n",
      " [ 0 -1 -1]], shape=(3, 3), dtype=int32)\n"
     ]
    }
   ],
   "source": [
    "#Write the answer in this cell and run\n",
    "# Subtraction\n",
    "\n",
    "substraction = a - b\n",
    "print(substraction)"
   ]
  },
  {
   "cell_type": "code",
   "execution_count": 5,
   "metadata": {
    "scrolled": true
   },
   "outputs": [
    {
     "name": "stdout",
     "output_type": "stream",
     "text": [
      "tf.Tensor(\n",
      "[[ 9  8  5]\n",
      " [11 12  8]\n",
      " [ 6  6  4]], shape=(3, 3), dtype=int32)\n",
      "tf.Tensor(\n",
      "[[ 9  7  7]\n",
      " [10  9  8]\n",
      " [ 9  6  7]], shape=(3, 3), dtype=int32)\n"
     ]
    }
   ],
   "source": [
    "#Write the answer in this cell and run\n",
    "# Multiplication AB and BA\n",
    "\n",
    "print(tf.matmul(a, b))\n",
    "print(tf.matmul(b, a))"
   ]
  },
  {
   "cell_type": "markdown",
   "metadata": {},
   "source": [
    "How many addition and multiplication operations occurs when matrixes A and B are multiplied? \n",
    "\n",
    "There is 3 rows and 3 columns -> 9 new \"cells\". Each contains 3 multiplications and 2 additions. 9 x 3 = 27. 9 x 2 = 18.\n",
    "Answer: 18 addition and 27 multiplication operations."
   ]
  },
  {
   "cell_type": "code",
   "execution_count": 6,
   "metadata": {},
   "outputs": [
    {
     "name": "stdout",
     "output_type": "stream",
     "text": [
      "tf.Tensor(\n",
      "[[1 3 1]\n",
      " [2 1 1]\n",
      " [1 2 1]], shape=(3, 3), dtype=int32)\n",
      "tf.Tensor(\n",
      "[[2 3 1]\n",
      " [2 2 2]\n",
      " [1 1 2]], shape=(3, 3), dtype=int32)\n"
     ]
    }
   ],
   "source": [
    "#Write the answer in this cell and run\n",
    "# Transposition of A and B\n",
    "\n",
    "print(tf.transpose(a))\n",
    "print(tf.transpose(b))"
   ]
  },
  {
   "cell_type": "markdown",
   "metadata": {},
   "source": [
    "## Matrix and operations using Python (numpy)\n",
    "\n",
    "Same matrixes as in Tensorflow exercises\n"
   ]
  },
  {
   "cell_type": "code",
   "execution_count": 7,
   "metadata": {},
   "outputs": [
    {
     "name": "stdout",
     "output_type": "stream",
     "text": [
      "[[1 2 1]\n",
      " [3 1 2]\n",
      " [1 1 1]]\n",
      "[[2 2 1]\n",
      " [3 2 1]\n",
      " [1 2 2]]\n"
     ]
    }
   ],
   "source": [
    "#Write the answer in this cell and run\n",
    "# Define matrixes using numpy\n",
    "\n",
    "\n",
    "# Depracated! https://numpy.org/doc/stable/reference/generated/numpy.matrix.html -> use regular arrays instead\n",
    "\n",
    "aa = np.array([[1, 2, 1], \n",
    "               [3, 1, 2], \n",
    "               [1, 1, 1]])\n",
    "bb = np.array([[2, 2, 1],\n",
    "               [3, 2, 1],\n",
    "               [1, 2, 2]])\n",
    "\n",
    "print(aa)\n",
    "print(bb)"
   ]
  },
  {
   "cell_type": "code",
   "execution_count": 8,
   "metadata": {},
   "outputs": [
    {
     "name": "stdout",
     "output_type": "stream",
     "text": [
      "[[3 4 2]\n",
      " [6 3 3]\n",
      " [2 3 3]]\n"
     ]
    }
   ],
   "source": [
    "#Write the answer in this cell and run\n",
    "# Addition\n",
    "\n",
    "print(aa + bb)\n"
   ]
  },
  {
   "cell_type": "code",
   "execution_count": 9,
   "metadata": {},
   "outputs": [
    {
     "name": "stdout",
     "output_type": "stream",
     "text": [
      "[[-1  0  0]\n",
      " [ 0 -1  1]\n",
      " [ 0 -1 -1]]\n"
     ]
    }
   ],
   "source": [
    "#Write the answer in this cell and run\n",
    "# Subtraction\n",
    "\n",
    "print(aa - bb)"
   ]
  },
  {
   "cell_type": "code",
   "execution_count": 10,
   "metadata": {},
   "outputs": [
    {
     "name": "stdout",
     "output_type": "stream",
     "text": [
      "[[ 9  8  5]\n",
      " [11 12  8]\n",
      " [ 6  6  4]]\n",
      "[[ 9  7  7]\n",
      " [10  9  8]\n",
      " [ 9  6  7]]\n"
     ]
    }
   ],
   "source": [
    "#Write the answer in this cell and run\n",
    "# Multiplication AB and BA\n",
    "\n",
    "\n",
    "print(np.dot(aa,bb))\n",
    "print(np.dot(bb, aa))\n",
    "\n",
    "# same\n",
    "# print(aa @ bb)\n",
    "# print(bb @ aa)\n",
    "# https://www.geeksforgeeks.org/multiplication-two-matrices-single-line-using-numpy-python/"
   ]
  },
  {
   "cell_type": "code",
   "execution_count": 11,
   "metadata": {},
   "outputs": [
    {
     "name": "stdout",
     "output_type": "stream",
     "text": [
      "[[1 3 1]\n",
      " [2 1 1]\n",
      " [1 2 1]]\n",
      "[[1 3 1]\n",
      " [2 1 1]\n",
      " [1 2 1]]\n"
     ]
    }
   ],
   "source": [
    "#Write the answer in this cell and run\n",
    "# Transposition of A \n",
    "\n",
    "# pari tapaa\n",
    "print(np.transpose(aa))\n",
    "print(aa.T)\n",
    "\n",
    "# pari lisää https://www.geeksforgeeks.org/transpose-matrix-single-line-python/"
   ]
  },
  {
   "cell_type": "code",
   "execution_count": 12,
   "metadata": {},
   "outputs": [
    {
     "name": "stdout",
     "output_type": "stream",
     "text": [
      "-1.0000000000000002\n",
      "-2.0000000000000004\n"
     ]
    }
   ],
   "source": [
    "#Write the answer in this cell and run\n",
    "# Determinant of A and B\n",
    "\n",
    "print(np.linalg.det(aa))\n",
    "print(np.linalg.det(bb))\n",
    "# These are negative, so the orientation of space has been inverted (kind of flipped)\n",
    "# The absolute value of determinant tells the factor by which the areas have been scaled\n",
    "# see https://youtu.be/Ip3X9LOh2dk?t=251\n",
    "\n",
    "# Inversion matrix of A and B, is possible\n"
   ]
  },
  {
   "cell_type": "code",
   "execution_count": 13,
   "metadata": {},
   "outputs": [],
   "source": [
    "#Write the answer in this cell and run\n",
    "# Check the A * A^t = I\n"
   ]
  },
  {
   "cell_type": "markdown",
   "metadata": {},
   "source": [
    "## Keras\n",
    "\n",
    "1. Use Keras Functional API to implement neural network (use Iris dataset): https://keras.io/guides/functional_api/   \n",
    "2. Keras compilation parameters same as in Keras Sequential model example\n",
    "3. Add neurons/nodes to hidden layer\n",
    "4. Change epoch\n",
    "5. Print the accuracy for each implementations\n",
    " "
   ]
  },
  {
   "cell_type": "markdown",
   "metadata": {},
   "source": [
    "### Keras Functional API implementation"
   ]
  },
  {
   "cell_type": "code",
   "execution_count": 14,
   "metadata": {},
   "outputs": [],
   "source": [
    "# Keras Function API implementation cell\n",
    "\n",
    "import numpy as np\n",
    "import pandas as pd\n",
    "import seaborn as sns\n",
    "import tensorflow as tf\n",
    "from tensorflow import keras\n",
    "from tensorflow.keras import layers\n",
    "from sklearn.model_selection import train_test_split\n",
    "\n",
    "tf.keras.backend.set_floatx('float64') # changes all layers to have dtype float64 by default (matters when dense-layer is casting an input tensor from dtype float64 to the layer's dtype of float32, which is new behavior in TensorFlow 2.  Without this change the layer has dtype float32 because its dtype defaults to floatx)\n",
    "\n",
    "dataset = sns.load_dataset(\"iris\") # downloads example dataset from the online reposity and returns df\n",
    "\n",
    "#dataset.info()\n",
    "#dataset\n"
   ]
  },
  {
   "cell_type": "code",
   "execution_count": 15,
   "metadata": {},
   "outputs": [],
   "source": [
    "dataset['species'] = pd.Categorical(dataset['species']) \n",
    "dataset['species'] = dataset['species'].cat.codes\n",
    "\n",
    "# no shuffle needed, as train_test_split will do it by default https://scikit-learn.org/stable/modules/generated/sklearn.model_selection.train_test_split.html\n",
    "\n",
    "Y = dataset['species'] # output\n",
    "X = dataset.drop(['species'], axis = 1) # input \n",
    "\n",
    "train_X, test_X, train_y, test_y = train_test_split(X, Y, test_size = 0.2, random_state = 42)\n",
    "\n",
    "# Using from_tensor_slices -function convert Numpy-tables to TensorFlow's Dataset class\n",
    "train_dataset = tf.data.Dataset.from_tensor_slices((train_X,train_y))\n",
    "test_dataset = tf.data.Dataset.from_tensor_slices((test_X,test_y))\n",
    "\n",
    "# Define the batch size\n",
    "train_dataset,test_dataset = train_dataset.batch(1), test_dataset.batch(1)\n"
   ]
  },
  {
   "cell_type": "code",
   "execution_count": 16,
   "metadata": {},
   "outputs": [
    {
     "name": "stdout",
     "output_type": "stream",
     "text": [
      "Training Input shape\t: (120, 4)\n",
      "Testing Input shape\t: (30, 4)\n",
      "Training Output shape\t: (120,)\n",
      "Testing Output shape\t: (30,)\n"
     ]
    }
   ],
   "source": [
    "print(\"Training Input shape\\t: {}\".format(train_X.shape))\n",
    "print(\"Testing Input shape\\t: {}\".format(test_X.shape))\n",
    "print(\"Training Output shape\\t: {}\".format(train_y.shape))\n",
    "print(\"Testing Output shape\\t: {}\".format(test_y.shape))"
   ]
  },
  {
   "cell_type": "code",
   "execution_count": 17,
   "metadata": {},
   "outputs": [],
   "source": [
    "# Add neurons/nodes to hidden layer\n",
    "\n",
    "# Define Sequential model with 3 layers\n",
    "model = keras.Sequential(\n",
    "    [\n",
    "        layers.Dense(2, activation = 'relu', input_shape = (4, )),\n",
    "        layers.Dense(6, activation = 'relu'),\n",
    "        layers.Dense(3, activation = 'softmax'),\n",
    "    ]\n",
    ")\n",
    "\n"
   ]
  },
  {
   "cell_type": "code",
   "execution_count": 18,
   "metadata": {},
   "outputs": [],
   "source": [
    "# Keras compilation parameters same as in Keras Sequential model example\n",
    "\n",
    "model.compile(loss='sparse_categorical_crossentropy', # Loss\n",
    "              optimizer='adam', # Adam optimizer with default parameters\n",
    "              metrics=['accuracy'] # Accuracy is used in classification problems. \n",
    "             )"
   ]
  },
  {
   "cell_type": "code",
   "execution_count": 19,
   "metadata": {},
   "outputs": [
    {
     "name": "stdout",
     "output_type": "stream",
     "text": [
      "Epoch 1/50\n",
      "120/120 [==============================] - 0s 627us/step - loss: 1.0299 - accuracy: 0.6250\n",
      "Epoch 2/50\n",
      "120/120 [==============================] - 0s 581us/step - loss: 0.9938 - accuracy: 0.3583\n",
      "Epoch 3/50\n",
      "120/120 [==============================] - 0s 597us/step - loss: 0.9602 - accuracy: 0.3833\n",
      "Epoch 4/50\n",
      "120/120 [==============================] - 0s 654us/step - loss: 0.9268 - accuracy: 0.3833\n",
      "Epoch 5/50\n",
      "120/120 [==============================] - 0s 628us/step - loss: 0.8933 - accuracy: 0.3833\n",
      "Epoch 6/50\n",
      "120/120 [==============================] - 0s 597us/step - loss: 0.8595 - accuracy: 0.4083\n",
      "Epoch 7/50\n",
      "120/120 [==============================] - 0s 586us/step - loss: 0.8253 - accuracy: 0.4167\n",
      "Epoch 8/50\n",
      "120/120 [==============================] - 0s 606us/step - loss: 0.7906 - accuracy: 0.4417\n",
      "Epoch 9/50\n",
      "120/120 [==============================] - 0s 586us/step - loss: 0.7561 - accuracy: 0.7500\n",
      "Epoch 10/50\n",
      "120/120 [==============================] - 0s 613us/step - loss: 0.7222 - accuracy: 0.8083\n",
      "Epoch 11/50\n",
      "120/120 [==============================] - 0s 620us/step - loss: 0.6894 - accuracy: 0.8333\n",
      "Epoch 12/50\n",
      "120/120 [==============================] - 0s 657us/step - loss: 0.6580 - accuracy: 0.8333\n",
      "Epoch 13/50\n",
      "120/120 [==============================] - 0s 578us/step - loss: 0.6285 - accuracy: 0.8500\n",
      "Epoch 14/50\n",
      "120/120 [==============================] - 0s 618us/step - loss: 0.6002 - accuracy: 0.8500\n",
      "Epoch 15/50\n",
      "120/120 [==============================] - 0s 592us/step - loss: 0.5733 - accuracy: 0.8500\n",
      "Epoch 16/50\n",
      "120/120 [==============================] - 0s 608us/step - loss: 0.5477 - accuracy: 0.8667\n",
      "Epoch 17/50\n",
      "120/120 [==============================] - 0s 618us/step - loss: 0.5234 - accuracy: 0.9000\n",
      "Epoch 18/50\n",
      "120/120 [==============================] - 0s 625us/step - loss: 0.5006 - accuracy: 0.9083\n",
      "Epoch 19/50\n",
      "120/120 [==============================] - 0s 624us/step - loss: 0.4792 - accuracy: 0.9250\n",
      "Epoch 20/50\n",
      "120/120 [==============================] - 0s 645us/step - loss: 0.4593 - accuracy: 0.9250\n",
      "Epoch 21/50\n",
      "120/120 [==============================] - 0s 654us/step - loss: 0.4407 - accuracy: 0.9333\n",
      "Epoch 22/50\n",
      "120/120 [==============================] - 0s 643us/step - loss: 0.4234 - accuracy: 0.9250\n",
      "Epoch 23/50\n",
      "120/120 [==============================] - 0s 571us/step - loss: 0.4074 - accuracy: 0.9250\n",
      "Epoch 24/50\n",
      "120/120 [==============================] - 0s 606us/step - loss: 0.3926 - accuracy: 0.9333\n",
      "Epoch 25/50\n",
      "120/120 [==============================] - 0s 620us/step - loss: 0.3789 - accuracy: 0.9417\n",
      "Epoch 26/50\n",
      "120/120 [==============================] - 0s 615us/step - loss: 0.3662 - accuracy: 0.9417\n",
      "Epoch 27/50\n",
      "120/120 [==============================] - 0s 597us/step - loss: 0.3544 - accuracy: 0.9417\n",
      "Epoch 28/50\n",
      "120/120 [==============================] - 0s 609us/step - loss: 0.3435 - accuracy: 0.9417\n",
      "Epoch 29/50\n",
      "120/120 [==============================] - 0s 586us/step - loss: 0.3334 - accuracy: 0.9417\n",
      "Epoch 30/50\n",
      "120/120 [==============================] - 0s 595us/step - loss: 0.3239 - accuracy: 0.9417\n",
      "Epoch 31/50\n",
      "120/120 [==============================] - 0s 660us/step - loss: 0.3150 - accuracy: 0.9417\n",
      "Epoch 32/50\n",
      "120/120 [==============================] - 0s 592us/step - loss: 0.3067 - accuracy: 0.9417\n",
      "Epoch 33/50\n",
      "120/120 [==============================] - 0s 602us/step - loss: 0.2988 - accuracy: 0.9417\n",
      "Epoch 34/50\n",
      "120/120 [==============================] - 0s 641us/step - loss: 0.2914 - accuracy: 0.9500\n",
      "Epoch 35/50\n",
      "120/120 [==============================] - 0s 600us/step - loss: 0.2843 - accuracy: 0.9500\n",
      "Epoch 36/50\n",
      "120/120 [==============================] - 0s 596us/step - loss: 0.2777 - accuracy: 0.9500\n",
      "Epoch 37/50\n",
      "120/120 [==============================] - 0s 634us/step - loss: 0.2714 - accuracy: 0.9500\n",
      "Epoch 38/50\n",
      "120/120 [==============================] - 0s 612us/step - loss: 0.2655 - accuracy: 0.9500\n",
      "Epoch 39/50\n",
      "120/120 [==============================] - 0s 581us/step - loss: 0.2598 - accuracy: 0.9500\n",
      "Epoch 40/50\n",
      "120/120 [==============================] - 0s 612us/step - loss: 0.2544 - accuracy: 0.9500\n",
      "Epoch 41/50\n",
      "120/120 [==============================] - 0s 614us/step - loss: 0.2492 - accuracy: 0.9500\n",
      "Epoch 42/50\n",
      "120/120 [==============================] - 0s 607us/step - loss: 0.2443 - accuracy: 0.9500\n",
      "Epoch 43/50\n",
      "120/120 [==============================] - 0s 711us/step - loss: 0.2395 - accuracy: 0.9500\n",
      "Epoch 44/50\n",
      "120/120 [==============================] - 0s 1ms/step - loss: 0.2350 - accuracy: 0.9500\n",
      "Epoch 45/50\n",
      "120/120 [==============================] - 0s 521us/step - loss: 0.2306 - accuracy: 0.9500\n",
      "Epoch 46/50\n",
      "120/120 [==============================] - 0s 564us/step - loss: 0.2264 - accuracy: 0.9500\n",
      "Epoch 47/50\n",
      "120/120 [==============================] - 0s 590us/step - loss: 0.2224 - accuracy: 0.9500\n",
      "Epoch 48/50\n",
      "120/120 [==============================] - 0s 619us/step - loss: 0.2185 - accuracy: 0.9500\n",
      "Epoch 49/50\n",
      "120/120 [==============================] - 0s 642us/step - loss: 0.2148 - accuracy: 0.9500\n",
      "Epoch 50/50\n",
      "120/120 [==============================] - 0s 655us/step - loss: 0.2112 - accuracy: 0.9500\n",
      "Model: \"sequential\"\n",
      "_________________________________________________________________\n",
      "Layer (type)                 Output Shape              Param #   \n",
      "=================================================================\n",
      "dense (Dense)                (None, 2)                 10        \n",
      "_________________________________________________________________\n",
      "dense_1 (Dense)              (None, 6)                 18        \n",
      "_________________________________________________________________\n",
      "dense_2 (Dense)              (None, 3)                 21        \n",
      "=================================================================\n",
      "Total params: 49\n",
      "Trainable params: 49\n",
      "Non-trainable params: 0\n",
      "_________________________________________________________________\n"
     ]
    }
   ],
   "source": [
    "model.fit(train_dataset, \n",
    "          epochs=50)\n",
    "\n",
    "# Print the model\n",
    "model.summary()"
   ]
  },
  {
   "cell_type": "code",
   "execution_count": 20,
   "metadata": {},
   "outputs": [
    {
     "name": "stdout",
     "output_type": "stream",
     "text": [
      "30/30 [==============================] - 0s 1ms/step - loss: 0.1772 - accuracy: 0.9667\n",
      "[0.17724143130083878, 0.9666666666666667]\n",
      "Accuracy in percents: 97%\n"
     ]
    }
   ],
   "source": [
    "results = model.evaluate(test_dataset)\n",
    "print(results)\n",
    "print(f\"Accuracy in percents: {results[1]*100:.0f}%\")"
   ]
  },
  {
   "cell_type": "code",
   "execution_count": 21,
   "metadata": {},
   "outputs": [],
   "source": [
    "# Talteen\n",
    "\n",
    "# https://stackoverflow.com/questions/44747343/keras-input-explanation-input-shape-units-batch-size-dim-etc\n",
    "# https://datascience.stackexchange.com/questions/53609/how-to-determine-input-shape-in-keras\n",
    "# https://towardsdatascience.com/how-to-use-dataset-in-tensorflow-c758ef9e4428\n",
    "    \n",
    "# https://www.kaggle.com/code/rushabhwadkar/deep-learning-with-keras-on-iris-dataset/notebook\n",
    "# https://medium.com/@nutanbhogendrasharma/tensorflow-deep-learning-model-with-iris-dataset-8ec344c49f91 \n",
    "    \n",
    "# https://towardsdatascience.com/train-your-neurons-on-artificial-neural-networks-featuring-keras-2757f51bb7ed\n",
    "    \n",
    "# https://pandas.pydata.org/pandas-docs/stable/user_guide/categorical.html\n",
    "    \n"
   ]
  }
 ],
 "metadata": {
  "kernelspec": {
   "display_name": "Python 3 (ipykernel)",
   "language": "python",
   "name": "python3"
  },
  "language_info": {
   "codemirror_mode": {
    "name": "ipython",
    "version": 3
   },
   "file_extension": ".py",
   "mimetype": "text/x-python",
   "name": "python",
   "nbconvert_exporter": "python",
   "pygments_lexer": "ipython3",
   "version": "3.8.8"
  }
 },
 "nbformat": 4,
 "nbformat_minor": 2
}
